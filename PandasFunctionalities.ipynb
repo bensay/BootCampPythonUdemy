{
 "cells": [
  {
   "cell_type": "code",
   "execution_count": 2,
   "metadata": {
    "scrolled": true
   },
   "outputs": [],
   "source": [
    "import pandas as pd"
   ]
  },
  {
   "cell_type": "code",
   "execution_count": 3,
   "metadata": {},
   "outputs": [],
   "source": [
    "import numpy as np"
   ]
  },
  {
   "cell_type": "markdown",
   "metadata": {},
   "source": [
    "# Series"
   ]
  },
  {
   "cell_type": "code",
   "execution_count": 4,
   "metadata": {},
   "outputs": [],
   "source": [
    "x = ['a', 'b', 'c', 'd', 'e']\n",
    "y = [1,2,3,4,5]\n",
    "z = {1:'a', 2:'b', 3:'c', 4:'d', 5:'e'}"
   ]
  },
  {
   "cell_type": "code",
   "execution_count": 6,
   "metadata": {},
   "outputs": [],
   "source": [
    "#Creating a series from a List\n",
    "a = pd.Series(data = x)"
   ]
  },
  {
   "cell_type": "code",
   "execution_count": 8,
   "metadata": {},
   "outputs": [
    {
     "name": "stdout",
     "output_type": "stream",
     "text": [
      "<class 'pandas.core.series.Series'>\n",
      "0    a\n",
      "1    b\n",
      "2    c\n",
      "3    d\n",
      "4    e\n",
      "dtype: object\n"
     ]
    }
   ],
   "source": [
    "print(type(a))\n",
    "print(a)"
   ]
  },
  {
   "cell_type": "code",
   "execution_count": 9,
   "metadata": {},
   "outputs": [
    {
     "name": "stdout",
     "output_type": "stream",
     "text": [
      "1    a\n",
      "2    b\n",
      "3    c\n",
      "4    d\n",
      "5    e\n",
      "dtype: object\n"
     ]
    }
   ],
   "source": [
    "#Creating a series from a list as value and a list as index\n",
    "b = pd.Series(data =x, index=y)\n",
    "print(b)"
   ]
  },
  {
   "cell_type": "code",
   "execution_count": 10,
   "metadata": {},
   "outputs": [
    {
     "name": "stdout",
     "output_type": "stream",
     "text": [
      "1    a\n",
      "2    b\n",
      "3    c\n",
      "4    d\n",
      "5    e\n",
      "dtype: object\n"
     ]
    }
   ],
   "source": [
    "#Creating a series from a Dictionary where keys are index and values are value of the serie\n",
    "c = pd.Series(data = z)\n",
    "print(c)"
   ]
  },
  {
   "cell_type": "markdown",
   "metadata": {},
   "source": [
    "# Data Frame"
   ]
  },
  {
   "cell_type": "code",
   "execution_count": 11,
   "metadata": {},
   "outputs": [
    {
     "name": "stdout",
     "output_type": "stream",
     "text": [
      "The type of the structure is <class 'pandas.core.frame.DataFrame'>\n"
     ]
    },
    {
     "data": {
      "text/html": [
       "<div>\n",
       "<style scoped>\n",
       "    .dataframe tbody tr th:only-of-type {\n",
       "        vertical-align: middle;\n",
       "    }\n",
       "\n",
       "    .dataframe tbody tr th {\n",
       "        vertical-align: top;\n",
       "    }\n",
       "\n",
       "    .dataframe thead th {\n",
       "        text-align: right;\n",
       "    }\n",
       "</style>\n",
       "<table border=\"1\" class=\"dataframe\">\n",
       "  <thead>\n",
       "    <tr style=\"text-align: right;\">\n",
       "      <th></th>\n",
       "      <th>V</th>\n",
       "      <th>W</th>\n",
       "      <th>X</th>\n",
       "      <th>Y</th>\n",
       "      <th>Z</th>\n",
       "    </tr>\n",
       "  </thead>\n",
       "  <tbody>\n",
       "    <tr>\n",
       "      <th>a</th>\n",
       "      <td>1</td>\n",
       "      <td>2</td>\n",
       "      <td>3</td>\n",
       "      <td>4</td>\n",
       "      <td>5</td>\n",
       "    </tr>\n",
       "    <tr>\n",
       "      <th>b</th>\n",
       "      <td>6</td>\n",
       "      <td>7</td>\n",
       "      <td>8</td>\n",
       "      <td>9</td>\n",
       "      <td>10</td>\n",
       "    </tr>\n",
       "    <tr>\n",
       "      <th>c</th>\n",
       "      <td>11</td>\n",
       "      <td>12</td>\n",
       "      <td>13</td>\n",
       "      <td>14</td>\n",
       "      <td>15</td>\n",
       "    </tr>\n",
       "    <tr>\n",
       "      <th>d</th>\n",
       "      <td>16</td>\n",
       "      <td>17</td>\n",
       "      <td>18</td>\n",
       "      <td>19</td>\n",
       "      <td>20</td>\n",
       "    </tr>\n",
       "  </tbody>\n",
       "</table>\n",
       "</div>"
      ],
      "text/plain": [
       "    V   W   X   Y   Z\n",
       "a   1   2   3   4   5\n",
       "b   6   7   8   9  10\n",
       "c  11  12  13  14  15\n",
       "d  16  17  18  19  20"
      ]
     },
     "execution_count": 11,
     "metadata": {},
     "output_type": "execute_result"
    }
   ],
   "source": [
    "#Creating data frames rows are A, B , C, D and columns are V, W, X, Y, Z \n",
    "A = [1, 2, 3, 4, 5]\n",
    "B = [6, 7, 8, 9, 10]\n",
    "C = [11, 12, 13, 14, 15]\n",
    "D = [16, 17, 18, 19, 20]\n",
    "\n",
    "df = pd.DataFrame([A,B,C,D], index= ['a', 'b', 'c', 'd'], columns= ['V', 'W', 'X', 'Y', 'Z'])\n",
    "print('The type of the structure is {t}'.format(t=type(df)))\n",
    "df"
   ]
  },
  {
   "cell_type": "code",
   "execution_count": 12,
   "metadata": {},
   "outputs": [
    {
     "data": {
      "text/html": [
       "<div>\n",
       "<style scoped>\n",
       "    .dataframe tbody tr th:only-of-type {\n",
       "        vertical-align: middle;\n",
       "    }\n",
       "\n",
       "    .dataframe tbody tr th {\n",
       "        vertical-align: top;\n",
       "    }\n",
       "\n",
       "    .dataframe thead th {\n",
       "        text-align: right;\n",
       "    }\n",
       "</style>\n",
       "<table border=\"1\" class=\"dataframe\">\n",
       "  <thead>\n",
       "    <tr style=\"text-align: right;\">\n",
       "      <th></th>\n",
       "      <th>V</th>\n",
       "      <th>W</th>\n",
       "      <th>X</th>\n",
       "      <th>Y</th>\n",
       "      <th>Z</th>\n",
       "    </tr>\n",
       "  </thead>\n",
       "  <tbody>\n",
       "    <tr>\n",
       "      <th>a</th>\n",
       "      <td>😀</td>\n",
       "      <td>🎈</td>\n",
       "      <td>🍔</td>\n",
       "      <td>🚓</td>\n",
       "      <td>🚡</td>\n",
       "    </tr>\n",
       "    <tr>\n",
       "      <th>b</th>\n",
       "      <td>😀</td>\n",
       "      <td>🎈</td>\n",
       "      <td>🍔</td>\n",
       "      <td>🚓</td>\n",
       "      <td>🚡</td>\n",
       "    </tr>\n",
       "    <tr>\n",
       "      <th>c</th>\n",
       "      <td>😀</td>\n",
       "      <td>🎈</td>\n",
       "      <td>🍔</td>\n",
       "      <td>🚓</td>\n",
       "      <td>🚡</td>\n",
       "    </tr>\n",
       "    <tr>\n",
       "      <th>d</th>\n",
       "      <td>😀</td>\n",
       "      <td>🎈</td>\n",
       "      <td>🍔</td>\n",
       "      <td>🚓</td>\n",
       "      <td>🚡</td>\n",
       "    </tr>\n",
       "  </tbody>\n",
       "</table>\n",
       "</div>"
      ],
      "text/plain": [
       "   V  W  X  Y  Z\n",
       "a  😀  🎈  🍔  🚓  🚡\n",
       "b  😀  🎈  🍔  🚓  🚡\n",
       "c  😀  🎈  🍔  🚓  🚡\n",
       "d  😀  🎈  🍔  🚓  🚡"
      ]
     },
     "execution_count": 12,
     "metadata": {},
     "output_type": "execute_result"
    }
   ],
   "source": [
    "#Creating Emoji DataFrame. DataFrame handles every type\n",
    "A2 = ['😀', '🎈', '🍔', '🚓', '🚡']\n",
    "B2 = ['😀', '🎈', '🍔', '🚓', '🚡']\n",
    "C2 = ['😀', '🎈', '🍔', '🚓', '🚡']\n",
    "D2 = ['😀', '🎈', '🍔', '🚓', '🚡']\n",
    "\n",
    "df2 = pd.DataFrame([A2,B2,C2,D2], index= ['a', 'b', 'c', 'd'], columns= ['V', 'W', 'X', 'Y', 'Z'])\n",
    "df2\n"
   ]
  },
  {
   "cell_type": "markdown",
   "metadata": {},
   "source": [
    "Creating And Deleting rows / columns in data frame"
   ]
  },
  {
   "cell_type": "code",
   "execution_count": 13,
   "metadata": {},
   "outputs": [
    {
     "name": "stdout",
     "output_type": "stream",
     "text": [
      "The Original and Copy data frame are Equals\n",
      "Original    V  W  X  Y  Z\n",
      "a  😀  🎈  🍔  🚓  🚡\n",
      "b  😀  🎈  🍔  🚓  🚡\n",
      "c  😀  🎈  🍔  🚓  🚡\n",
      "d  😀  🎈  🍔  🚓  🚡\n",
      "Copy    V  W  X  Y  Z\n",
      "a  😀  🎈  🍔  🚓  🚡\n",
      "b  😀  🎈  🍔  🚓  🚡\n",
      "c  😀  🎈  🍔  🚓  🚡\n",
      "d  😀  🎈  🍔  🚓  🚡\n",
      "----------------------------------\n",
      "The Initial and Copy data frame are Not Equals\n",
      "Original    V  W  X  Y  Z\n",
      "a  😀  🎈  🍔  🚓  🚡\n",
      "b  😀  🎈  🍔  🚓  🚡\n",
      "c  😀  🎈  🍔  🚓  🚡\n",
      "d  😀  🎈  🍔  🚓  🚡\n",
      "Copy    V  W  X  Y  Z   A\n",
      "a  😀  🎈  🍔  🚓  🚡  🚓🚡\n",
      "b  😀  🎈  🍔  🚓  🚡  🚓🚡\n",
      "c  😀  🎈  🍔  🚓  🚡  🚓🚡\n",
      "d  😀  🎈  🍔  🚓  🚡  🚓🚡\n",
      "----------------------------------\n",
      "The Initial and Copy data frame are Not Equals\n",
      "Original    V  W  X  Y  Z\n",
      "a  😀  🎈  🍔  🚓  🚡\n",
      "b  😀  🎈  🍔  🚓  🚡\n",
      "c  😀  🎈  🍔  🚓  🚡\n",
      "d  😀  🎈  🍔  🚓  🚡\n",
      "Copy    V  W  X  Y  Z\n",
      "a  😀  🎈  🍔  🚓  🚡\n",
      "b  😀  🎈  🍔  🚓  🚡\n",
      "c  😀  🎈  🍔  🚓  🚡\n",
      "d  😀  🎈  🍔  🚓  🚡\n",
      "e  😀  🎈  🍔  🚓  🚡\n",
      "----------------------------------\n",
      "Dropping rows without inplace\n",
      "   V  W  X  Y  Z\n",
      "a  😀  🎈  🍔  🚓  🚡\n",
      "b  😀  🎈  🍔  🚓  🚡\n",
      "c  😀  🎈  🍔  🚓  🚡\n",
      "----------------------------------\n",
      "The Initial and Copy data frame are Equals\n",
      "Original    V  W  X  Y  Z\n",
      "a  😀  🎈  🍔  🚓  🚡\n",
      "b  😀  🎈  🍔  🚓  🚡\n",
      "c  😀  🎈  🍔  🚓  🚡\n",
      "d  😀  🎈  🍔  🚓  🚡\n",
      "Copy    V  W  X  Y  Z\n",
      "a  😀  🎈  🍔  🚓  🚡\n",
      "b  😀  🎈  🍔  🚓  🚡\n",
      "c  😀  🎈  🍔  🚓  🚡\n",
      "d  😀  🎈  🍔  🚓  🚡\n",
      "----------------------------------\n",
      "Dropping rows with inplace\n",
      "None\n",
      "----------------------------------\n",
      "The Initial and Copy data frame are Not Equals\n",
      "Original    V  W  X  Y  Z\n",
      "a  😀  🎈  🍔  🚓  🚡\n",
      "b  😀  🎈  🍔  🚓  🚡\n",
      "c  😀  🎈  🍔  🚓  🚡\n",
      "d  😀  🎈  🍔  🚓  🚡\n",
      "Copy    V  W  X  Y  Z\n",
      "a  😀  🎈  🍔  🚓  🚡\n",
      "b  😀  🎈  🍔  🚓  🚡\n",
      "c  😀  🎈  🍔  🚓  🚡\n",
      "----------------------------------\n",
      "Dropping columns without inplace\n",
      "   V  W  X  Y\n",
      "a  😀  🎈  🍔  🚓\n",
      "b  😀  🎈  🍔  🚓\n",
      "c  😀  🎈  🍔  🚓\n",
      "d  😀  🎈  🍔  🚓\n",
      "----------------------------------\n",
      "The Initial and Copy data frame are Equals\n",
      "Original    V  W  X  Y  Z\n",
      "a  😀  🎈  🍔  🚓  🚡\n",
      "b  😀  🎈  🍔  🚓  🚡\n",
      "c  😀  🎈  🍔  🚓  🚡\n",
      "d  😀  🎈  🍔  🚓  🚡\n",
      "Copy    V  W  X  Y  Z\n",
      "a  😀  🎈  🍔  🚓  🚡\n",
      "b  😀  🎈  🍔  🚓  🚡\n",
      "c  😀  🎈  🍔  🚓  🚡\n",
      "d  😀  🎈  🍔  🚓  🚡\n",
      "----------------------------------\n",
      "Dropping columns with inplace\n",
      "None\n",
      "----------------------------------\n",
      "The Initial and Copy data frame are Not Equals\n",
      "Original    V  W  X  Y  Z\n",
      "a  😀  🎈  🍔  🚓  🚡\n",
      "b  😀  🎈  🍔  🚓  🚡\n",
      "c  😀  🎈  🍔  🚓  🚡\n",
      "d  😀  🎈  🍔  🚓  🚡\n",
      "Copy    V  W  X  Y\n",
      "a  😀  🎈  🍔  🚓\n",
      "b  😀  🎈  🍔  🚓\n",
      "c  😀  🎈  🍔  🚓\n",
      "d  😀  🎈  🍔  🚓\n"
     ]
    }
   ],
   "source": [
    "def Equals(dataFrame1, dataFrame2):\n",
    "    if dataFrame1.equals(dataFrame2):\n",
    "        return 'Equals'\n",
    "    return 'Not Equals'\n",
    "#MakeCopy of Data Frame\n",
    "df_copy = df2.copy()\n",
    "#The copy are equal with the original\n",
    "print('The Original and Copy data frame are {x}'.format(x = Equals(df_copy, df2)))\n",
    "print('Original {x}'.format(x= df2))\n",
    "print('Copy {x}'.format(x= df_copy))\n",
    "\n",
    "#Adding Columns in copy df\n",
    "print('----------------------------------')\n",
    "df_copy['A'] = df2['Y'] + df2['Z']\n",
    "print('The Initial and Copy data frame are {x}'.format(x = Equals(df_copy, df2)))\n",
    "print('Original {x}'.format(x= df2))\n",
    "print('Copy {x}'.format(x= df_copy))\n",
    "\n",
    "#Make copy again\n",
    "df_copy = df2.copy()\n",
    "#Adding Rows in copydoping  df\n",
    "print('----------------------------------')\n",
    "row_to_add = pd.Series(data = ['😀', '🎈', '🍔', '🚓', '🚡'], index= df2.columns, name='e')\n",
    "df_copy = df2.append(row_to_add)\n",
    "print('The Initial and Copy data frame are {x}'.format(x = Equals(df_copy, df2)))\n",
    "print('Original {x}'.format(x= df2))\n",
    "print('Copy {x}'.format(x= df_copy))\n",
    "\n",
    "#Make copy again\n",
    "df_copy = df2.copy()\n",
    "#Droping Rows in copy df\n",
    "print('----------------------------------')\n",
    "print('Dropping rows without inplace')\n",
    "print(df_copy.drop('d'))\n",
    "print('----------------------------------')\n",
    "print('The Initial and Copy data frame are {x}'.format(x = Equals(df_copy, df2)))\n",
    "print('Original {x}'.format(x= df2))\n",
    "print('Copy {x}'.format(x= df_copy))\n",
    "print('----------------------------------')\n",
    "print('Dropping rows with inplace')\n",
    "print(df_copy.drop('d', inplace= True))\n",
    "print('----------------------------------')\n",
    "print('The Initial and Copy data frame are {x}'.format(x = Equals(df_copy, df2)))\n",
    "print('Original {x}'.format(x= df2))\n",
    "print('Copy {x}'.format(x= df_copy))\n",
    "\n",
    "#Make copy again\n",
    "df_copy = df2.copy()\n",
    "#Droping Columns in copy df\n",
    "print('----------------------------------')\n",
    "print('Dropping columns without inplace')\n",
    "print(df_copy.drop('Z', axis=1))\n",
    "print('----------------------------------')\n",
    "print('The Initial and Copy data frame are {x}'.format(x = Equals(df_copy, df2)))\n",
    "print('Original {x}'.format(x= df2))\n",
    "print('Copy {x}'.format(x= df_copy))\n",
    "print('----------------------------------')\n",
    "print('Dropping columns with inplace')\n",
    "print(df_copy.drop('Z', inplace= True, axis=1))\n",
    "print('----------------------------------')\n",
    "print('The Initial and Copy data frame are {x}'.format(x = Equals(df_copy, df2)))\n",
    "print('Original {x}'.format(x= df2))\n",
    "print('Copy {x}'.format(x= df_copy))"
   ]
  },
  {
   "cell_type": "markdown",
   "metadata": {},
   "source": [
    "Accessing Elements in Data Frame"
   ]
  },
  {
   "cell_type": "code",
   "execution_count": 14,
   "metadata": {},
   "outputs": [
    {
     "name": "stdout",
     "output_type": "stream",
     "text": [
      "-------------------\n",
      "Acces the column Z in data Frame \n",
      "a    🚡\n",
      "b    🚡\n",
      "c    🚡\n",
      "d    🚡\n",
      "Name: Z, dtype: object\n",
      "The type of the output is <class 'pandas.core.series.Series'>\n",
      "-------------------\n",
      "Acces the row a in data Frame \n",
      "V    😀\n",
      "W    🎈\n",
      "X    🍔\n",
      "Y    🚓\n",
      "Z    🚡\n",
      "Name: a, dtype: object\n",
      "The type of the output is <class 'pandas.core.series.Series'>\n",
      "-------------------\n",
      "Acces the 2-row  in data Frame \n",
      "V    😀\n",
      "W    🎈\n",
      "X    🍔\n",
      "Y    🚓\n",
      "Z    🚡\n",
      "Name: b, dtype: object\n",
      "The type of the output is <class 'pandas.core.series.Series'>\n",
      "-------------------\n",
      "Acces the element in 2-row and 3-column  in data Frame \n",
      "🍔\n",
      "The type of the output is <class 'str'>\n",
      "-------------------\n",
      "Acces the element in row c and column Y in data Frame \n",
      "🚓\n",
      "The type of the output is <class 'str'>\n"
     ]
    }
   ],
   "source": [
    "#Accessing Columns\n",
    "print('-------------------')\n",
    "print('Acces the column {t} in data Frame \\n{T}\\nThe type of the output is {tt}'.format(t = 'Z', T = df2['Z'], tt = type(df2['Z'])))\n",
    "#Accessing Rows by index name\n",
    "print('-------------------')\n",
    "print('Acces the row {t} in data Frame \\n{T}\\nThe type of the output is {tt}'.format(t = 'a', T = df2.loc['a'], tt = type(df2.loc['a'])))\n",
    "#Accessing Rows by index position\n",
    "print('-------------------')\n",
    "print('Acces the {t}-row  in data Frame \\n{T}\\nThe type of the output is {tt}'.format(t = 2, T = df2.iloc[1], tt = type(df2.iloc[1])))\n",
    "#Accessing element by index and column positions \n",
    "print('-------------------')\n",
    "print('Acces the element in {t}-row and {u}-column  in data Frame \\n{T}\\nThe type of the output is {tt}'.format(t = 2, u = 3, T = df2.iloc[1,2], tt = type(df2.iloc[1,2])))\n",
    "#Accessing element by index and column names \n",
    "print('-------------------')\n",
    "print('Acces the element in row {t} and column {u} in data Frame \\n{T}\\nThe type of the output is {tt}'.format(t = 'c', u = 'Y', T = df2.loc['c','Y'], tt = type(df2.loc['c','Y'])))"
   ]
  },
  {
   "cell_type": "markdown",
   "metadata": {},
   "source": [
    "Conditional Accessing"
   ]
  },
  {
   "cell_type": "code",
   "execution_count": 19,
   "metadata": {},
   "outputs": [
    {
     "data": {
      "text/html": [
       "<div>\n",
       "<style scoped>\n",
       "    .dataframe tbody tr th:only-of-type {\n",
       "        vertical-align: middle;\n",
       "    }\n",
       "\n",
       "    .dataframe tbody tr th {\n",
       "        vertical-align: top;\n",
       "    }\n",
       "\n",
       "    .dataframe thead th {\n",
       "        text-align: right;\n",
       "    }\n",
       "</style>\n",
       "<table border=\"1\" class=\"dataframe\">\n",
       "  <thead>\n",
       "    <tr style=\"text-align: right;\">\n",
       "      <th></th>\n",
       "      <th>V</th>\n",
       "      <th>W</th>\n",
       "      <th>X</th>\n",
       "      <th>Y</th>\n",
       "      <th>Z</th>\n",
       "    </tr>\n",
       "  </thead>\n",
       "  <tbody>\n",
       "    <tr>\n",
       "      <th>a</th>\n",
       "      <td>1.0</td>\n",
       "      <td>2.0</td>\n",
       "      <td>3.0</td>\n",
       "      <td>4.0</td>\n",
       "      <td>5.0</td>\n",
       "    </tr>\n",
       "    <tr>\n",
       "      <th>b</th>\n",
       "      <td>6.0</td>\n",
       "      <td>7.0</td>\n",
       "      <td>8.0</td>\n",
       "      <td>NaN</td>\n",
       "      <td>NaN</td>\n",
       "    </tr>\n",
       "    <tr>\n",
       "      <th>c</th>\n",
       "      <td>NaN</td>\n",
       "      <td>NaN</td>\n",
       "      <td>NaN</td>\n",
       "      <td>NaN</td>\n",
       "      <td>NaN</td>\n",
       "    </tr>\n",
       "    <tr>\n",
       "      <th>d</th>\n",
       "      <td>NaN</td>\n",
       "      <td>NaN</td>\n",
       "      <td>NaN</td>\n",
       "      <td>NaN</td>\n",
       "      <td>NaN</td>\n",
       "    </tr>\n",
       "  </tbody>\n",
       "</table>\n",
       "</div>"
      ],
      "text/plain": [
       "     V    W    X    Y    Z\n",
       "a  1.0  2.0  3.0  4.0  5.0\n",
       "b  6.0  7.0  8.0  NaN  NaN\n",
       "c  NaN  NaN  NaN  NaN  NaN\n",
       "d  NaN  NaN  NaN  NaN  NaN"
      ]
     },
     "execution_count": 19,
     "metadata": {},
     "output_type": "execute_result"
    }
   ],
   "source": [
    "#One Condition\n",
    "df[df < 9]"
   ]
  },
  {
   "cell_type": "code",
   "execution_count": 21,
   "metadata": {},
   "outputs": [
    {
     "data": {
      "text/html": [
       "<div>\n",
       "<style scoped>\n",
       "    .dataframe tbody tr th:only-of-type {\n",
       "        vertical-align: middle;\n",
       "    }\n",
       "\n",
       "    .dataframe tbody tr th {\n",
       "        vertical-align: top;\n",
       "    }\n",
       "\n",
       "    .dataframe thead th {\n",
       "        text-align: right;\n",
       "    }\n",
       "</style>\n",
       "<table border=\"1\" class=\"dataframe\">\n",
       "  <thead>\n",
       "    <tr style=\"text-align: right;\">\n",
       "      <th></th>\n",
       "      <th>W</th>\n",
       "      <th>Z</th>\n",
       "    </tr>\n",
       "  </thead>\n",
       "  <tbody>\n",
       "    <tr>\n",
       "      <th>a</th>\n",
       "      <td>2</td>\n",
       "      <td>5</td>\n",
       "    </tr>\n",
       "    <tr>\n",
       "      <th>b</th>\n",
       "      <td>7</td>\n",
       "      <td>10</td>\n",
       "    </tr>\n",
       "  </tbody>\n",
       "</table>\n",
       "</div>"
      ],
      "text/plain": [
       "   W   Z\n",
       "a  2   5\n",
       "b  7  10"
      ]
     },
     "execution_count": 21,
     "metadata": {},
     "output_type": "execute_result"
    }
   ],
   "source": [
    "#One Condition in a column\n",
    "df[df['V']<9][['W', 'Z']]"
   ]
  },
  {
   "cell_type": "code",
   "execution_count": 24,
   "metadata": {},
   "outputs": [
    {
     "name": "stdout",
     "output_type": "stream",
     "text": [
      "-----------------------------\n",
      "    V   W   X   Y   Z\n",
      "a   1   2   3   4   5\n",
      "b   6   7   8   9  10\n",
      "c  11  12  13  14  15\n",
      "d  16  17  18  19  20\n",
      "The muliple condition result and the original dataFrame are Equals\n",
      "    V   W   X   Y   Z\n",
      "b   6   7   8   9  10\n",
      "c  11  12  13  14  15\n",
      "The muliple condition result and the original dataFrame are Not Equals\n"
     ]
    }
   ],
   "source": [
    "#Multiple Condition\n",
    "def Equals(dataFrame1, dataFrame2):\n",
    "    if dataFrame1.equals(dataFrame2):\n",
    "        return 'Equals'\n",
    "    return 'Not Equals'\n",
    "print('-----------------------------')\n",
    "result = df[(df['V']>5) | (df['X']<14)]\n",
    "print(result)\n",
    "print('The muliple condition result and the original dataFrame are {t}'.format(t  = Equals(result, df)))\n",
    "result = df[(df['V']>5) & (df['X']<14)]\n",
    "print(result)\n",
    "print('The muliple condition result and the original dataFrame are {t}'.format(t  = Equals(result, df)))"
   ]
  },
  {
   "cell_type": "markdown",
   "metadata": {},
   "source": [
    "Missing Data NA"
   ]
  },
  {
   "cell_type": "code",
   "execution_count": null,
   "metadata": {},
   "outputs": [],
   "source": []
  }
 ],
 "metadata": {
  "kernelspec": {
   "display_name": "Python 3",
   "language": "python",
   "name": "python3"
  },
  "language_info": {
   "codemirror_mode": {
    "name": "ipython",
    "version": 3
   },
   "file_extension": ".py",
   "mimetype": "text/x-python",
   "name": "python",
   "nbconvert_exporter": "python",
   "pygments_lexer": "ipython3",
   "version": "3.9.2"
  }
 },
 "nbformat": 4,
 "nbformat_minor": 4
}
