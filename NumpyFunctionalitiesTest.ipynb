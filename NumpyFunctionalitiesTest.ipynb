{
 "cells": [
  {
   "cell_type": "markdown",
   "metadata": {},
   "source": [
    "## We list different numpy methods here with simple examples"
   ]
  },
  {
   "cell_type": "markdown",
   "metadata": {},
   "source": [
    "1) Importing numpy package to use its functionalities"
   ]
  },
  {
   "cell_type": "code",
   "execution_count": 1,
   "metadata": {},
   "outputs": [],
   "source": [
    "import numpy as np"
   ]
  },
  {
   "cell_type": "markdown",
   "metadata": {},
   "source": [
    "2) Creating a numpy 1D-Array and a 2D-Array from a list"
   ]
  },
  {
   "cell_type": "code",
   "execution_count": 18,
   "metadata": {},
   "outputs": [
    {
     "name": "stdout",
     "output_type": "stream",
     "text": [
      "Standart 1D-List : [8, 1, 1991]\n",
      "Numpy 1D-List : [   8    1 1991]\n",
      "Standart 2D-List : [[8, 1, 1991], [4, 5, 1991], [17, 3, 1948]]\n",
      "Numpy 2D-List : [[   8    1 1991]\n",
      " [   4    5 1991]\n",
      " [  17    3 1948]]\n"
     ]
    }
   ],
   "source": [
    "list1D = [8, 1, 1991]\n",
    "list1D_Numpy = np.array(list1D)\n",
    "list2D = [[8, 1, 1991], [4, 5, 1991], [17, 3, 1948]]\n",
    "list2D_Numpy = np.array(list2D)\n",
    "print(\"Standart 1D-List :\", list1D)\n",
    "print(\"Numpy 1D-List :\", list1D_Numpy)\n",
    "print(\"Standart 2D-List :\", list2D)\n",
    "print(\"Numpy 2D-List :\", list2D_Numpy)"
   ]
  },
  {
   "cell_type": "markdown",
   "metadata": {},
   "source": [
    "3) Creating standard numpy list:\n",
    "    -eye(n,p): \n",
    "    -zeros(n):\n",
    "    -ones(n):\n",
    "    -arange(n, m, h):\n",
    "    -linspace(n, m, k):"
   ]
  },
  {
   "cell_type": "code",
   "execution_count": 52,
   "metadata": {},
   "outputs": [
    {
     "name": "stdout",
     "output_type": "stream",
     "text": [
      "Identity matrix with a size 10X10\n",
      "[[1. 0. 0. 0. 0. 0. 0. 0. 0. 0.]\n",
      " [0. 1. 0. 0. 0. 0. 0. 0. 0. 0.]\n",
      " [0. 0. 1. 0. 0. 0. 0. 0. 0. 0.]\n",
      " [0. 0. 0. 1. 0. 0. 0. 0. 0. 0.]\n",
      " [0. 0. 0. 0. 1. 0. 0. 0. 0. 0.]\n",
      " [0. 0. 0. 0. 0. 1. 0. 0. 0. 0.]\n",
      " [0. 0. 0. 0. 0. 0. 1. 0. 0. 0.]\n",
      " [0. 0. 0. 0. 0. 0. 0. 1. 0. 0.]\n",
      " [0. 0. 0. 0. 0. 0. 0. 0. 1. 0.]\n",
      " [0. 0. 0. 0. 0. 0. 0. 0. 0. 1.]]\n",
      "Identity matrix with a size 3X3 + one extra zero column\n",
      "[[1. 0. 0. 0.]\n",
      " [0. 1. 0. 0.]\n",
      " [0. 0. 1. 0.]]\n",
      "Identity matrix with a size 10X6 by removing the 4th last columns\n",
      "[[1. 0. 0. 0. 0. 0.]\n",
      " [0. 1. 0. 0. 0. 0.]\n",
      " [0. 0. 1. 0. 0. 0.]\n",
      " [0. 0. 0. 1. 0. 0.]\n",
      " [0. 0. 0. 0. 1. 0.]\n",
      " [0. 0. 0. 0. 0. 1.]\n",
      " [0. 0. 0. 0. 0. 0.]\n",
      " [0. 0. 0. 0. 0. 0.]\n",
      " [0. 0. 0. 0. 0. 0.]\n",
      " [0. 0. 0. 0. 0. 0.]]\n",
      "Row with 5 zeros\n",
      "[0. 0. 0. 0. 0.]\n",
      "Row with 5 ones\n",
      "[1. 1. 1. 1. 1.]\n",
      "Row containing elements from 4 to strictly before 16 with 2 steps \n",
      "[ 4  6  8 10 12 14]\n",
      "Row containing 11 elements from 0 to 100\n",
      "[  0.  10.  20.  30.  40.  50.  60.  70.  80.  90. 100.]\n"
     ]
    }
   ],
   "source": [
    "print(\"Identity matrix with a size 10X10\")\n",
    "x = np.eye(10)\n",
    "print(x)\n",
    "print(\"Identity matrix with a size 3X3 + one extra zero column\")\n",
    "x = np.eye(3,4)\n",
    "print(x)\n",
    "print(\"Identity matrix with a size 10X6 by removing the 4th last columns\")\n",
    "x = np.eye(10,6)\n",
    "print(x)\n",
    "print(\"Row with 5 zeros\")\n",
    "x = np.zeros(5)\n",
    "print(x)\n",
    "print(\"Row with 5 ones\")\n",
    "x = np.ones(5)\n",
    "print(x)\n",
    "print(\"Row containing elements from 4 to strictly before 16 with 2 steps \")\n",
    "x = np.arange(4,16,2)\n",
    "print(x)\n",
    "print(\"Row containing 11 elements from 0 to 100\")\n",
    "x = np.linspace(0, 100, 11)\n",
    "print(x)"
   ]
  },
  {
   "cell_type": "code",
   "execution_count": null,
   "metadata": {},
   "outputs": [],
   "source": []
  }
 ],
 "metadata": {
  "kernelspec": {
   "display_name": "Python 3",
   "language": "python",
   "name": "python3"
  },
  "language_info": {
   "codemirror_mode": {
    "name": "ipython",
    "version": 3
   },
   "file_extension": ".py",
   "mimetype": "text/x-python",
   "name": "python",
   "nbconvert_exporter": "python",
   "pygments_lexer": "ipython3",
   "version": "3.6.5"
  }
 },
 "nbformat": 4,
 "nbformat_minor": 4
}
